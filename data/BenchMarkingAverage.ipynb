{
 "cells": [
  {
   "cell_type": "code",
   "execution_count": 1,
   "id": "74636561",
   "metadata": {},
   "outputs": [],
   "source": [
    "import neuron_gen as ng\n",
    "import numpy as np\n",
    "import time\n",
    "import matplotlib.pyplot as plt"
   ]
  },
  {
   "cell_type": "code",
   "execution_count": 2,
   "id": "d02c68f9",
   "metadata": {},
   "outputs": [],
   "source": [
    "gen_methods = (ng.genNeuronsV1, ng.genNeuronsV2, ng.genNeuronsV3)"
   ]
  },
  {
   "cell_type": "code",
   "execution_count": 3,
   "id": "1fb36906",
   "metadata": {},
   "outputs": [
    {
     "name": "stdout",
     "output_type": "stream",
     "text": [
      "Help on function genNeuronsV2 in module neuron_gen:\n",
      "\n",
      "genNeuronsV2(num_of_neurons: int, num_of_regions: int = 8, max_connection_bias: float = 1.0, max_error: float = 0.2, max_adjacent: int = 500, bench_mark: bool = False)\n",
      "    # W/ tuple\n",
      "\n"
     ]
    }
   ],
   "source": [
    "help(ng.genNeuronsV2)"
   ]
  },
  {
   "cell_type": "code",
   "execution_count": 4,
   "id": "4e15f185",
   "metadata": {},
   "outputs": [],
   "source": [
    "def bench_marker(times, func, **kwargs):\n",
    "    res = np.empty(times)\n",
    "    for i in range(times):\n",
    "        s = time.perf_counter()\n",
    "        func(**kwargs)\n",
    "        res[i] = time.perf_counter() - s\n",
    "    return res.sum() / times"
   ]
  },
  {
   "cell_type": "code",
   "execution_count": 5,
   "id": "23530429",
   "metadata": {},
   "outputs": [
    {
     "name": "stdout",
     "output_type": "stream",
     "text": [
      "{'num_of_neurons': 100000, 'max_adjacent': 10, 'bench_mark': True}\n"
     ]
    }
   ],
   "source": [
    "kwargs = {\"num_of_neurons\": 100_000, \"max_adjacent\": 10, \"bench_mark\": True}\n",
    "print(kwargs)"
   ]
  },
  {
   "cell_type": "code",
   "execution_count": 6,
   "id": "29de6b0f",
   "metadata": {},
   "outputs": [],
   "source": [
    "gap = np.arange(100, 600, 100)"
   ]
  },
  {
   "cell_type": "code",
   "execution_count": 7,
   "id": "9c42b1e4",
   "metadata": {},
   "outputs": [
    {
     "data": {
      "text/plain": [
       "5"
      ]
     },
     "execution_count": 7,
     "metadata": {},
     "output_type": "execute_result"
    }
   ],
   "source": [
    "gap.size"
   ]
  },
  {
   "cell_type": "code",
   "execution_count": 8,
   "id": "436ee614",
   "metadata": {},
   "outputs": [],
   "source": [
    "data = np.empty((4, gap.size), dtype=float)"
   ]
  },
  {
   "cell_type": "code",
   "execution_count": 9,
   "id": "9f164924",
   "metadata": {},
   "outputs": [],
   "source": [
    "data[0] = gap"
   ]
  },
  {
   "cell_type": "code",
   "execution_count": 10,
   "id": "56199267",
   "metadata": {},
   "outputs": [
    {
     "name": "stdout",
     "output_type": "stream",
     "text": [
      "Time to benchmark: 557.3848570000009\n"
     ]
    }
   ],
   "source": [
    "s = time.perf_counter()\n",
    "for i in range (1, 4):\n",
    "    for j in range(gap.size):\n",
    "        data[i, j] = bench_marker(10, gen_methods[i - 1], **{\"num_of_neurons\": 100_000, \"max_adjacent\": gap[j], \"bench_mark\": True})\n",
    "print(f\"Time to benchmark: {time.perf_counter() - s}\")"
   ]
  },
  {
   "cell_type": "code",
   "execution_count": 11,
   "id": "98a0d364",
   "metadata": {},
   "outputs": [
    {
     "data": {
      "text/plain": [
       "array([[100.        , 200.        , 300.        , 400.        ,\n",
       "        500.        ],\n",
       "       [  2.2805211 ,   3.3863956 ,   3.91387211,   3.94958137,\n",
       "          4.21468508],\n",
       "       [  3.52520485,   3.48111056,   3.76939432,   3.96791303,\n",
       "          4.38796394],\n",
       "       [  3.47704247,   3.66390421,   3.88366582,   3.86691197,\n",
       "          3.97004375]])"
      ]
     },
     "execution_count": 11,
     "metadata": {},
     "output_type": "execute_result"
    }
   ],
   "source": [
    "data"
   ]
  },
  {
   "cell_type": "code",
   "execution_count": 12,
   "id": "f9ab08b9",
   "metadata": {},
   "outputs": [],
   "source": [
    "np.savetxt(\"bench_mark_res.csv\", data, delimiter=\",\")"
   ]
  },
  {
   "cell_type": "code",
   "execution_count": 2,
   "id": "75df5a67",
   "metadata": {},
   "outputs": [
    {
     "ename": "NameError",
     "evalue": "name 'plt' is not defined",
     "output_type": "error",
     "traceback": [
      "\u001b[1;31m---------------------------------------------------------------------------\u001b[0m",
      "\u001b[1;31mNameError\u001b[0m                                 Traceback (most recent call last)",
      "Cell \u001b[1;32mIn[2], line 1\u001b[0m\n\u001b[1;32m----> 1\u001b[0m \u001b[43mplt\u001b[49m\u001b[38;5;241m.\u001b[39mtitle(\u001b[38;5;124m\"\u001b[39m\u001b[38;5;124mWorst Case Time Duration Averaged Over 10 runs\u001b[39m\u001b[38;5;124m\"\u001b[39m)\n\u001b[0;32m      3\u001b[0m plt\u001b[38;5;241m.\u001b[39mplot(data[\u001b[38;5;241m0\u001b[39m], data[\u001b[38;5;241m1\u001b[39m], \u001b[38;5;124m'\u001b[39m\u001b[38;5;124m.-\u001b[39m\u001b[38;5;124m'\u001b[39m, label\u001b[38;5;241m=\u001b[39m\u001b[38;5;124m\"\u001b[39m\u001b[38;5;124mgenNeuronsV1\u001b[39m\u001b[38;5;124m\"\u001b[39m)\n\u001b[0;32m      4\u001b[0m plt\u001b[38;5;241m.\u001b[39mplot(data[\u001b[38;5;241m0\u001b[39m], data[\u001b[38;5;241m2\u001b[39m], \u001b[38;5;124m'\u001b[39m\u001b[38;5;124m.-\u001b[39m\u001b[38;5;124m'\u001b[39m,label\u001b[38;5;241m=\u001b[39m\u001b[38;5;124m\"\u001b[39m\u001b[38;5;124mgenNeuronsV2\u001b[39m\u001b[38;5;124m\"\u001b[39m)\n",
      "\u001b[1;31mNameError\u001b[0m: name 'plt' is not defined"
     ]
    }
   ],
   "source": [
    "plt.title(\"Worst Case Time Duration Averaged Over 10 runs\")\n",
    "\n",
    "plt.plot(data[0], data[1], '.-', label=\"genNeuronsV1\")\n",
    "plt.plot(data[0], data[2], '.-',label=\"genNeuronsV2\")\n",
    "plt.plot(data[0], data[3], '.-',label=\"genNeuronsV3\")\n",
    "\n",
    "\n",
    "plt.ylabel(\"Seconds\")\n",
    "plt.legend()\n",
    "plt.xticks(np.arange(0, 600, 100))\n",
    "\n",
    "plt.show()"
   ]
  }
 ],
 "metadata": {
  "kernelspec": {
   "display_name": "Python 3 (ipykernel)",
   "language": "python",
   "name": "python3"
  },
  "language_info": {
   "codemirror_mode": {
    "name": "ipython",
    "version": 3
   },
   "file_extension": ".py",
   "mimetype": "text/x-python",
   "name": "python",
   "nbconvert_exporter": "python",
   "pygments_lexer": "ipython3",
   "version": "3.10.9"
  }
 },
 "nbformat": 4,
 "nbformat_minor": 5
}
