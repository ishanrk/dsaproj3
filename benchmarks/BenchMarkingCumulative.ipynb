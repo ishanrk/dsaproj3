{
 "cells": [
  {
   "cell_type": "code",
   "execution_count": 1,
   "id": "777213fd",
   "metadata": {},
   "outputs": [],
   "source": [
    "import numpy as np\n",
    "import matplotlib.pyplot as plt\n",
    "import time\n",
    "import pandas as pd"
   ]
  },
  {
   "cell_type": "code",
   "execution_count": 2,
   "id": "3548dbe4",
   "metadata": {},
   "outputs": [],
   "source": [
    "%run ../data/neuron_gen.py"
   ]
  },
  {
   "cell_type": "code",
   "execution_count": 3,
   "id": "d6c8fe87",
   "metadata": {},
   "outputs": [],
   "source": [
    "def bench_mark(times, value, func):\n",
    "    res = np.empty(times)\n",
    "    for i in range(times):\n",
    "        s = time.perf_counter()\n",
    "        func(value)\n",
    "        res[i] = time.perf_counter() - s\n",
    "    return res "
   ]
  },
  {
   "cell_type": "code",
   "execution_count": 4,
   "id": "7a4cb26e",
   "metadata": {},
   "outputs": [],
   "source": [
    "def bench_mark_rng(start, stop, step, times, func):\n",
    "    vals = np.arange(start, stop, step)\n",
    "    res = np.empty((vals.size, times))\n",
    "    for i, v in enumerate(vals):\n",
    "        for t in range(times):\n",
    "            s = time.perf_counter()\n",
    "            func(v)\n",
    "            res[i, t] = time.perf_counter() - s\n",
    "    return res"
   ]
  },
  {
   "cell_type": "code",
   "execution_count": null,
   "id": "973ecddd",
   "metadata": {},
   "outputs": [],
   "source": [
    "v1 = bench_mark_rng(100, 600, 100, 10, lambda x : genNeuronsV2(num_of_neurons=100_000, max_adjacent=x, bench_mark=True))\n",
    "v2 = bench_mark_rng(100, 600, 100, 10, lambda x : genNeuronsV2(num_of_neurons=100_000, max_adjacent=x, bench_mark=True))\n",
    "v3 = bench_mark_rng(100, 600, 100, 10, lambda x : genNeuronsV2(num_of_neurons=100_000, max_adjacent=x, bench_mark=True))"
   ]
  },
  {
   "cell_type": "code",
   "execution_count": null,
   "id": "c36e3977",
   "metadata": {},
   "outputs": [],
   "source": [
    "np.savetxt(\"v1_100_500.csv\", v1, delimiter=\",\")\n",
    "np.savetxt(\"v2_100_500.csv\", v2, delimiter=\",\")\n",
    "np.savetxt(\"v3_100_500.csv\", v3, delimiter=\",\")"
   ]
  },
  {
   "cell_type": "code",
   "execution_count": null,
   "id": "72399020",
   "metadata": {},
   "outputs": [],
   "source": [
    "plt.title(\"GenV1 Boxplot\")\n",
    "labels = [100, 200, 300, 400, 500]\n",
    "\n",
    "plt.boxplot([v1[x, :] for x in range(v1.shape[0])], labels=labels)\n",
    "\n",
    "plt.show()"
   ]
  },
  {
   "cell_type": "code",
   "execution_count": null,
   "id": "50fdd6bc",
   "metadata": {},
   "outputs": [],
   "source": [
    "plt.title(\"GenV2 Boxplot\")\n",
    "labels = [100, 200, 300, 400, 500]\n",
    "\n",
    "plt.boxplot([v2[x, :] for x in range(v2.shape[0])], labels=labels)\n",
    "\n",
    "plt.show()"
   ]
  },
  {
   "cell_type": "code",
   "execution_count": null,
   "id": "efe2b3e4",
   "metadata": {},
   "outputs": [],
   "source": [
    "plt.title(\"GenV3 Boxplot\")\n",
    "labels = [100, 200, 300, 400, 500]\n",
    "\n",
    "plt.boxplot([v3[x, :] for x in range(v3.shape[0])], labels=labels)\n",
    "\n",
    "plt.show()"
   ]
  }
 ],
 "metadata": {
  "kernelspec": {
   "display_name": "Python 3 (ipykernel)",
   "language": "python",
   "name": "python3"
  },
  "language_info": {
   "codemirror_mode": {
    "name": "ipython",
    "version": 3
   },
   "file_extension": ".py",
   "mimetype": "text/x-python",
   "name": "python",
   "nbconvert_exporter": "python",
   "pygments_lexer": "ipython3",
   "version": "3.10.9"
  }
 },
 "nbformat": 4,
 "nbformat_minor": 5
}
